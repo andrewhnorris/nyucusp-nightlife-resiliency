{
 "cells": [
  {
   "cell_type": "code",
   "execution_count": 1,
   "metadata": {},
   "outputs": [],
   "source": [
    "import pandas as pd\n",
    "import numpy as np\n",
    "import statsmodels.formula.api as smf\n",
    "import matplotlib.pylab as plt\n",
    "import math\n",
    "from scipy import stats\n",
    "import geopandas as gpd\n",
    "%matplotlib inline\n",
    "from functools import reduce"
   ]
  },
  {
   "cell_type": "code",
   "execution_count": 2,
   "metadata": {},
   "outputs": [],
   "source": [
    "import importlib\n",
    "import mr_word_count\n",
    "importlib.reload(mr_word_count)\n",
    "from mr_word_count import MRWordFrequencyCount\n",
    "from mrjob.job import MRJob\n",
    "import mapreduce as mr"
   ]
  },
  {
   "cell_type": "code",
   "execution_count": 3,
   "metadata": {},
   "outputs": [],
   "source": [
    "import nltk\n",
    "from bs4 import BeautifulSoup\n",
    "import string\n",
    "from nltk.corpus import stopwords\n",
    "from nltk.tokenize import RegexpTokenizer\n",
    "from nltk.stem import WordNetLemmatizer\n",
    "from nltk.stem.porter import PorterStemmer"
   ]
  },
  {
   "cell_type": "code",
   "execution_count": 55,
   "metadata": {},
   "outputs": [],
   "source": [
    "df = pd.read_csv('InwoodYelpDescription.csv')"
   ]
  },
  {
   "cell_type": "code",
   "execution_count": 59,
   "metadata": {},
   "outputs": [
    {
     "data": {
      "text/html": [
       "<div>\n",
       "<style scoped>\n",
       "    .dataframe tbody tr th:only-of-type {\n",
       "        vertical-align: middle;\n",
       "    }\n",
       "\n",
       "    .dataframe tbody tr th {\n",
       "        vertical-align: top;\n",
       "    }\n",
       "\n",
       "    .dataframe thead th {\n",
       "        text-align: right;\n",
       "    }\n",
       "</style>\n",
       "<table border=\"1\" class=\"dataframe\">\n",
       "  <thead>\n",
       "    <tr style=\"text-align: right;\">\n",
       "      <th></th>\n",
       "      <th>zipcode</th>\n",
       "      <th>all_reviews</th>\n",
       "      <th>Neighborhood</th>\n",
       "    </tr>\n",
       "  </thead>\n",
       "  <tbody>\n",
       "    <tr>\n",
       "      <th>0</th>\n",
       "      <td>10034</td>\n",
       "      <td>Great crowd and really good music. I went ther...</td>\n",
       "      <td>Inwood</td>\n",
       "    </tr>\n",
       "    <tr>\n",
       "      <th>1</th>\n",
       "      <td>10034</td>\n",
       "      <td>I went there on a Wednesday \\nGreat experience...</td>\n",
       "      <td>Inwood</td>\n",
       "    </tr>\n",
       "    <tr>\n",
       "      <th>2</th>\n",
       "      <td>10034</td>\n",
       "      <td>This is my second review but wanted to update ...</td>\n",
       "      <td>Inwood</td>\n",
       "    </tr>\n",
       "    <tr>\n",
       "      <th>3</th>\n",
       "      <td>10034</td>\n",
       "      <td>Sigh. Another uptown establishment overrun by ...</td>\n",
       "      <td>Inwood</td>\n",
       "    </tr>\n",
       "    <tr>\n",
       "      <th>4</th>\n",
       "      <td>10034</td>\n",
       "      <td>This place is nice and enjoyable if you do not...</td>\n",
       "      <td>Inwood</td>\n",
       "    </tr>\n",
       "  </tbody>\n",
       "</table>\n",
       "</div>"
      ],
      "text/plain": [
       "   zipcode                                        all_reviews Neighborhood\n",
       "0    10034  Great crowd and really good music. I went ther...       Inwood\n",
       "1    10034  I went there on a Wednesday \\nGreat experience...       Inwood\n",
       "2    10034  This is my second review but wanted to update ...       Inwood\n",
       "3    10034  Sigh. Another uptown establishment overrun by ...       Inwood\n",
       "4    10034  This place is nice and enjoyable if you do not...       Inwood"
      ]
     },
     "execution_count": 59,
     "metadata": {},
     "output_type": "execute_result"
    }
   ],
   "source": [
    "df.head()"
   ]
  },
  {
   "cell_type": "code",
   "execution_count": 61,
   "metadata": {},
   "outputs": [],
   "source": [
    "# tokenizer turns each string in the description column to a list of words\n",
    "\n",
    "tokenizer = RegexpTokenizer('\\s+', gaps=True)"
   ]
  },
  {
   "cell_type": "code",
   "execution_count": 62,
   "metadata": {},
   "outputs": [],
   "source": [
    "df['all_reviews'] = df['all_reviews'].apply(lambda x: tokenizer.tokenize(x.lower()))"
   ]
  },
  {
   "cell_type": "code",
   "execution_count": 63,
   "metadata": {},
   "outputs": [
    {
     "data": {
      "text/plain": [
       "0    [great, crowd, and, really, good, music., i, w...\n",
       "1    [i, went, there, on, a, wednesday, great, expe...\n",
       "2    [this, is, my, second, review, but, wanted, to...\n",
       "3    [sigh., another, uptown, establishment, overru...\n",
       "4    [this, place, is, nice, and, enjoyable, if, yo...\n",
       "5    [inwood, bar, &, grill, is, one, my, favorite,...\n",
       "6    [after, a, long, walk, in, ft, tryon, park,, w...\n",
       "7    [i've, been, here, once, and, i, promised, mys...\n",
       "8    [oh, tenth, avenue!, who, the, hell, would've,...\n",
       "9    [loved, it, here., they, have, a, simple, and,...\n",
       "Name: all_reviews, dtype: object"
      ]
     },
     "execution_count": 63,
     "metadata": {},
     "output_type": "execute_result"
    }
   ],
   "source": [
    "df['all_reviews'].head(10)"
   ]
  },
  {
   "cell_type": "code",
   "execution_count": 64,
   "metadata": {},
   "outputs": [],
   "source": [
    "def remove_stopwords(text):\n",
    "    words = [w for w in text if w not in stopwords.words('english')]\n",
    "    return words"
   ]
  },
  {
   "cell_type": "code",
   "execution_count": 65,
   "metadata": {},
   "outputs": [],
   "source": [
    "df['all_reviews'] = df['all_reviews'].apply(lambda x: remove_stopwords(x))"
   ]
  },
  {
   "cell_type": "code",
   "execution_count": 66,
   "metadata": {},
   "outputs": [],
   "source": [
    "# lemmatizer not totally sure what it does but it helps with the getting the gist of the word\n",
    "# gotta read the towards data science post\n",
    "\n",
    "lemmatizer = WordNetLemmatizer()\n",
    "\n",
    "def word_lemmatizer(text):\n",
    "    lem_text = [lemmatizer.lemmatize(i) for i in text]\n",
    "    return lem_text"
   ]
  },
  {
   "cell_type": "code",
   "execution_count": 67,
   "metadata": {},
   "outputs": [
    {
     "data": {
      "text/plain": [
       "0     [great, crowd, really, good, music., went, bru...\n",
       "1     [went, wednesday, great, experience!, afterwor...\n",
       "2     [second, review, wanted, update, ate, mother's...\n",
       "3     [sigh., another, uptown, establishment, overru...\n",
       "4     [place, nice, enjoyable, wait, 2, hour, play, ...\n",
       "5     [inwood, bar, &, grill, one, favorite, restaur...\n",
       "6     [long, walk, ft, tryon, park,, spied, cañave.,...\n",
       "7     [i've, promised, first, last, time, dj, spinni...\n",
       "8     [oh, tenth, avenue!, hell, would've, thought, ...\n",
       "9     [loved, here., simple, straight, forward, happ...\n",
       "10    [chill/laid, back, vibe, weekend, day., note-,...\n",
       "11    [bad, customer, service, ., people, scam, mone...\n",
       "12    [husband, love, indian, road, cafe!, eat, regu...\n",
       "13    [beautiful, surprise, neighborhood,, excellent...\n",
       "14    [would, highly, recommend, restaurant, looking...\n",
       "15    [delivery, time., order, chicharrones, de, cer...\n",
       "16    [great, cocktails,, warm, friendly, atmosphere...\n",
       "17    [staff, amazing, customer, service, point., dr...\n",
       "18    [used, really, love, bar,, faithful, patron, 5...\n",
       "19    [family,, friend, turnt, birthday, last, sunda...\n",
       "20    [went, place, friday, evening, around, 9pm., g...\n",
       "21    [wish, taken, picture, delicious, food, busy, ...\n",
       "22    [amazed, menu, ambiance, bistro., cool, spot, ...\n",
       "23    [went, sunday, late, afternoon, seated, right,...\n",
       "24    [located, heart, heights., bar/grill, site, su...\n",
       "25    [relaxing, pub, great, selection, beer, yummy,...\n",
       "26    [place, berry, nice, ., service, great, +, rec...\n",
       "27    [long, day, (i, going, say, wednesday,, tuesda...\n",
       "28    [came, coworkers, thursday,, \"$10, thursdays.\"...\n",
       "29    [ordered, delivery, yesterday., wait, time, go...\n",
       "30    [bean, vine, intimate, spot, compared, regular...\n",
       "31    [i've, couple, time, like, place, different, l...\n",
       "32    [809, spot!, dinner,, happy, hour,, brunch...,...\n",
       "33    [husband, heard, new, place, opened, since, lo...\n",
       "34    [low, key,, that's, best, part, everything, le...\n",
       "35    [birthday, popular, way, celebrate, large, par...\n",
       "36    [let, start, saying, reason, opus, get, even, ...\n",
       "37    [wanting, try, place, finally, went, happy, ho...\n",
       "38    [various, occasions,, different, day, week, di...\n",
       "39    [came, celebrate, 24th, birthday., bottle, $22...\n",
       "40    [zoe, restaurant, &, lounge, never, disappoint...\n",
       "41    [place, madhouse., small, get, capacity, get, ...\n",
       "Name: all_reviews, dtype: object"
      ]
     },
     "execution_count": 67,
     "metadata": {},
     "output_type": "execute_result"
    }
   ],
   "source": [
    "# if you'll notice here, we don't set the column equal to the updated applied version - I think that results in errors\n",
    "# I tried before, it didn't work, and had to rerun code from the beginning, more than once\n",
    "\n",
    "df['all_reviews'].apply(lambda x: word_lemmatizer(x))"
   ]
  },
  {
   "cell_type": "code",
   "execution_count": 69,
   "metadata": {},
   "outputs": [],
   "source": [
    "# Okay, this is where it gets real clunky, and a for loop could've made life easier, but oh well\n",
    "# I created brand new df's for each neighborhood (just duplicates essentially)\n",
    "# each letter for a respective neighborhood\n",
    "\n",
    "df['zipcode'] = df['zipcode'].astype(int)\n",
    "df['all_reviews'] = df['all_reviews'].astype(str)"
   ]
  },
  {
   "cell_type": "code",
   "execution_count": 89,
   "metadata": {},
   "outputs": [],
   "source": [
    "# then here, I created a 8 string var's (one for each neighborhood df)\n",
    "# concatenate all the description strings for each neighborhood into one string\n",
    "\n",
    "a = df['all_reviews'].str.cat()"
   ]
  },
  {
   "cell_type": "code",
   "execution_count": 90,
   "metadata": {},
   "outputs": [],
   "source": [
    "# Here, the words_'letter' are lists of all of all the words\n",
    "# the wordCount_'letter' are dictionaries of the words and their counts\n",
    "# again, there's 8 of these, cause 8 df's / neighborhoods\n",
    "\n",
    "\n",
    "from collections import Counter\n",
    "\n",
    "words_a = a.split()\n",
    "wordCount_a = Counter(words_a) #Chelsea"
   ]
  },
  {
   "cell_type": "code",
   "execution_count": 91,
   "metadata": {},
   "outputs": [],
   "source": [
    "# The First Line\n",
    "# Here, I turned the dictionaries into df's so based on count\n",
    "\n",
    "\n",
    "# The Second Line\n",
    "# rename the columns to word and count\n",
    "\n",
    "# The Third Line\n",
    "# so I could get a sorted df based on word count\n",
    "\n",
    "#Chelsea\n",
    "df1 = pd.DataFrame.from_dict(wordCount_a, orient='index').reset_index()\n",
    "df1 = df1.rename(columns={\"index\": \"word\", 0:'count'})"
   ]
  },
  {
   "cell_type": "code",
   "execution_count": 92,
   "metadata": {},
   "outputs": [],
   "source": [
    "# First Line -- replace punctuation with a blank space\n",
    "# Second Line -- update the df so that if the value in the word column is blank, drop it\n",
    "# Third & 4th Lines -- drop words from the df that only showed up once or twice\n",
    "\n",
    "\n",
    "df1['word'] = df1['word'].str.replace(r'[^\\w\\s]+', '')\n",
    "df1 = df1[df1.word != '']"
   ]
  },
  {
   "cell_type": "code",
   "execution_count": 111,
   "metadata": {},
   "outputs": [],
   "source": [
    "#df1 = df1.sort_values('count', ascending=False)"
   ]
  },
  {
   "cell_type": "code",
   "execution_count": 93,
   "metadata": {},
   "outputs": [
    {
     "data": {
      "text/html": [
       "<div>\n",
       "<style scoped>\n",
       "    .dataframe tbody tr th:only-of-type {\n",
       "        vertical-align: middle;\n",
       "    }\n",
       "\n",
       "    .dataframe tbody tr th {\n",
       "        vertical-align: top;\n",
       "    }\n",
       "\n",
       "    .dataframe thead th {\n",
       "        text-align: right;\n",
       "    }\n",
       "</style>\n",
       "<table border=\"1\" class=\"dataframe\">\n",
       "  <thead>\n",
       "    <tr style=\"text-align: right;\">\n",
       "      <th></th>\n",
       "      <th>word</th>\n",
       "      <th>count</th>\n",
       "    </tr>\n",
       "  </thead>\n",
       "  <tbody>\n",
       "    <tr>\n",
       "      <th>8</th>\n",
       "      <td>2</td>\n",
       "      <td>3</td>\n",
       "    </tr>\n",
       "    <tr>\n",
       "      <th>15</th>\n",
       "      <td>3</td>\n",
       "      <td>3</td>\n",
       "    </tr>\n",
       "    <tr>\n",
       "      <th>21</th>\n",
       "      <td>4</td>\n",
       "      <td>5</td>\n",
       "    </tr>\n",
       "    <tr>\n",
       "      <th>24</th>\n",
       "      <td>5</td>\n",
       "      <td>5</td>\n",
       "    </tr>\n",
       "    <tr>\n",
       "      <th>53</th>\n",
       "      <td>although</td>\n",
       "      <td>3</td>\n",
       "    </tr>\n",
       "  </tbody>\n",
       "</table>\n",
       "</div>"
      ],
      "text/plain": [
       "        word  count\n",
       "8          2      3\n",
       "15         3      3\n",
       "21         4      5\n",
       "24         5      5\n",
       "53  although      3"
      ]
     },
     "execution_count": 93,
     "metadata": {},
     "output_type": "execute_result"
    }
   ],
   "source": [
    "df1 = df1.groupby(['word'], as_index=False)['count'].sum()\n",
    "df1.drop( df1[ df1['count'] == 1 ].index , inplace=True)\n",
    "df1.drop( df1[ df1['count'] == 2 ].index , inplace=True)\n",
    "df1.head()"
   ]
  },
  {
   "cell_type": "code",
   "execution_count": 98,
   "metadata": {},
   "outputs": [],
   "source": [
    "a = df1.loc[df1['word'] == 'new', 'count'].reset_index(drop=True)\n",
    "b = df1.loc[df1['word'] == 'york', 'count'].reset_index(drop=True)\n",
    "c = a.sub(b)\n",
    "c = c.values"
   ]
  },
  {
   "cell_type": "code",
   "execution_count": 99,
   "metadata": {},
   "outputs": [
    {
     "name": "stdout",
     "output_type": "stream",
     "text": [
      "Series([], Name: count, dtype: int64)\n"
     ]
    }
   ],
   "source": [
    "print(a)"
   ]
  },
  {
   "cell_type": "code",
   "execution_count": 100,
   "metadata": {},
   "outputs": [
    {
     "data": {
      "text/html": [
       "<div>\n",
       "<style scoped>\n",
       "    .dataframe tbody tr th:only-of-type {\n",
       "        vertical-align: middle;\n",
       "    }\n",
       "\n",
       "    .dataframe tbody tr th {\n",
       "        vertical-align: top;\n",
       "    }\n",
       "\n",
       "    .dataframe thead th {\n",
       "        text-align: right;\n",
       "    }\n",
       "</style>\n",
       "<table border=\"1\" class=\"dataframe\">\n",
       "  <thead>\n",
       "    <tr style=\"text-align: right;\">\n",
       "      <th></th>\n",
       "      <th>word</th>\n",
       "      <th>count</th>\n",
       "    </tr>\n",
       "  </thead>\n",
       "  <tbody>\n",
       "    <tr>\n",
       "      <th>8</th>\n",
       "      <td>2</td>\n",
       "      <td>3</td>\n",
       "    </tr>\n",
       "    <tr>\n",
       "      <th>15</th>\n",
       "      <td>3</td>\n",
       "      <td>3</td>\n",
       "    </tr>\n",
       "    <tr>\n",
       "      <th>21</th>\n",
       "      <td>4</td>\n",
       "      <td>5</td>\n",
       "    </tr>\n",
       "    <tr>\n",
       "      <th>24</th>\n",
       "      <td>5</td>\n",
       "      <td>5</td>\n",
       "    </tr>\n",
       "    <tr>\n",
       "      <th>53</th>\n",
       "      <td>although</td>\n",
       "      <td>3</td>\n",
       "    </tr>\n",
       "  </tbody>\n",
       "</table>\n",
       "</div>"
      ],
      "text/plain": [
       "        word  count\n",
       "8          2      3\n",
       "15         3      3\n",
       "21         4      5\n",
       "24         5      5\n",
       "53  although      3"
      ]
     },
     "execution_count": 100,
     "metadata": {},
     "output_type": "execute_result"
    }
   ],
   "source": [
    "df1.loc[df1.word == \"new\", \"count\"] = c\n",
    "df1.head()"
   ]
  },
  {
   "cell_type": "code",
   "execution_count": 101,
   "metadata": {},
   "outputs": [
    {
     "data": {
      "text/plain": [
       "164"
      ]
     },
     "execution_count": 101,
     "metadata": {},
     "output_type": "execute_result"
    }
   ],
   "source": [
    "len(df1)"
   ]
  },
  {
   "cell_type": "code",
   "execution_count": 102,
   "metadata": {},
   "outputs": [],
   "source": [
    "#indexNames = dfObj[ dfObj['Age'] == 30 ].index\n",
    " \n",
    "# Delete these row indexes from dataFrame\n",
    "df1.drop(df1[ df1['word'] == 'york' ].index , inplace=True)"
   ]
  },
  {
   "cell_type": "code",
   "execution_count": 103,
   "metadata": {},
   "outputs": [
    {
     "data": {
      "text/html": [
       "<div>\n",
       "<style scoped>\n",
       "    .dataframe tbody tr th:only-of-type {\n",
       "        vertical-align: middle;\n",
       "    }\n",
       "\n",
       "    .dataframe tbody tr th {\n",
       "        vertical-align: top;\n",
       "    }\n",
       "\n",
       "    .dataframe thead th {\n",
       "        text-align: right;\n",
       "    }\n",
       "</style>\n",
       "<table border=\"1\" class=\"dataframe\">\n",
       "  <thead>\n",
       "    <tr style=\"text-align: right;\">\n",
       "      <th></th>\n",
       "      <th>word</th>\n",
       "      <th>count</th>\n",
       "    </tr>\n",
       "  </thead>\n",
       "  <tbody>\n",
       "    <tr>\n",
       "      <th>8</th>\n",
       "      <td>2</td>\n",
       "      <td>3</td>\n",
       "    </tr>\n",
       "    <tr>\n",
       "      <th>15</th>\n",
       "      <td>3</td>\n",
       "      <td>3</td>\n",
       "    </tr>\n",
       "    <tr>\n",
       "      <th>21</th>\n",
       "      <td>4</td>\n",
       "      <td>5</td>\n",
       "    </tr>\n",
       "    <tr>\n",
       "      <th>24</th>\n",
       "      <td>5</td>\n",
       "      <td>5</td>\n",
       "    </tr>\n",
       "    <tr>\n",
       "      <th>53</th>\n",
       "      <td>although</td>\n",
       "      <td>3</td>\n",
       "    </tr>\n",
       "  </tbody>\n",
       "</table>\n",
       "</div>"
      ],
      "text/plain": [
       "        word  count\n",
       "8          2      3\n",
       "15         3      3\n",
       "21         4      5\n",
       "24         5      5\n",
       "53  although      3"
      ]
     },
     "execution_count": 103,
     "metadata": {},
     "output_type": "execute_result"
    }
   ],
   "source": [
    "df1.head()"
   ]
  },
  {
   "cell_type": "code",
   "execution_count": 104,
   "metadata": {},
   "outputs": [
    {
     "data": {
      "text/html": [
       "<div>\n",
       "<style scoped>\n",
       "    .dataframe tbody tr th:only-of-type {\n",
       "        vertical-align: middle;\n",
       "    }\n",
       "\n",
       "    .dataframe tbody tr th {\n",
       "        vertical-align: top;\n",
       "    }\n",
       "\n",
       "    .dataframe thead th {\n",
       "        text-align: right;\n",
       "    }\n",
       "</style>\n",
       "<table border=\"1\" class=\"dataframe\">\n",
       "  <thead>\n",
       "    <tr style=\"text-align: right;\">\n",
       "      <th></th>\n",
       "      <th>word</th>\n",
       "      <th>count</th>\n",
       "    </tr>\n",
       "  </thead>\n",
       "  <tbody>\n",
       "    <tr>\n",
       "      <th>600</th>\n",
       "      <td>place</td>\n",
       "      <td>52</td>\n",
       "    </tr>\n",
       "    <tr>\n",
       "      <th>372</th>\n",
       "      <td>great</td>\n",
       "      <td>41</td>\n",
       "    </tr>\n",
       "    <tr>\n",
       "      <th>327</th>\n",
       "      <td>food</td>\n",
       "      <td>28</td>\n",
       "    </tr>\n",
       "    <tr>\n",
       "      <th>366</th>\n",
       "      <td>good</td>\n",
       "      <td>21</td>\n",
       "    </tr>\n",
       "    <tr>\n",
       "      <th>525</th>\n",
       "      <td>music</td>\n",
       "      <td>17</td>\n",
       "    </tr>\n",
       "  </tbody>\n",
       "</table>\n",
       "</div>"
      ],
      "text/plain": [
       "      word  count\n",
       "600  place     52\n",
       "372  great     41\n",
       "327   food     28\n",
       "366   good     21\n",
       "525  music     17"
      ]
     },
     "execution_count": 104,
     "metadata": {},
     "output_type": "execute_result"
    }
   ],
   "source": [
    "df1 = df1.sort_values('count', ascending=False)\n",
    "df1.head()"
   ]
  },
  {
   "cell_type": "code",
   "execution_count": 105,
   "metadata": {},
   "outputs": [
    {
     "data": {
      "text/plain": [
       "164"
      ]
     },
     "execution_count": 105,
     "metadata": {},
     "output_type": "execute_result"
    }
   ],
   "source": [
    "len(df1)"
   ]
  },
  {
   "cell_type": "code",
   "execution_count": 106,
   "metadata": {},
   "outputs": [],
   "source": [
    "# created new df's that took the top 150 values for each of the 8 neighborhood's / df's\n",
    "# df100 corresponds to df1 which corresponds to Chelsea, so on and so forth...\n",
    "\n",
    "df100 = df1.head(150)"
   ]
  },
  {
   "cell_type": "code",
   "execution_count": 107,
   "metadata": {},
   "outputs": [
    {
     "data": {
      "text/html": [
       "<div>\n",
       "<style scoped>\n",
       "    .dataframe tbody tr th:only-of-type {\n",
       "        vertical-align: middle;\n",
       "    }\n",
       "\n",
       "    .dataframe tbody tr th {\n",
       "        vertical-align: top;\n",
       "    }\n",
       "\n",
       "    .dataframe thead th {\n",
       "        text-align: right;\n",
       "    }\n",
       "</style>\n",
       "<table border=\"1\" class=\"dataframe\">\n",
       "  <thead>\n",
       "    <tr style=\"text-align: right;\">\n",
       "      <th></th>\n",
       "      <th>word</th>\n",
       "      <th>count</th>\n",
       "    </tr>\n",
       "  </thead>\n",
       "  <tbody>\n",
       "    <tr>\n",
       "      <th>0</th>\n",
       "      <td>place</td>\n",
       "      <td>52</td>\n",
       "    </tr>\n",
       "    <tr>\n",
       "      <th>1</th>\n",
       "      <td>great</td>\n",
       "      <td>41</td>\n",
       "    </tr>\n",
       "    <tr>\n",
       "      <th>2</th>\n",
       "      <td>food</td>\n",
       "      <td>28</td>\n",
       "    </tr>\n",
       "    <tr>\n",
       "      <th>3</th>\n",
       "      <td>good</td>\n",
       "      <td>21</td>\n",
       "    </tr>\n",
       "    <tr>\n",
       "      <th>4</th>\n",
       "      <td>music</td>\n",
       "      <td>17</td>\n",
       "    </tr>\n",
       "  </tbody>\n",
       "</table>\n",
       "</div>"
      ],
      "text/plain": [
       "    word  count\n",
       "0  place     52\n",
       "1  great     41\n",
       "2   food     28\n",
       "3   good     21\n",
       "4  music     17"
      ]
     },
     "execution_count": 107,
     "metadata": {},
     "output_type": "execute_result"
    }
   ],
   "source": [
    "df100 = df100.reset_index(drop=True)\n",
    "df100.head()"
   ]
  },
  {
   "cell_type": "code",
   "execution_count": 54,
   "metadata": {},
   "outputs": [],
   "source": [
    "#df100.to_csv('Yelp LES.csv', index = False, header=True)"
   ]
  },
  {
   "cell_type": "code",
   "execution_count": null,
   "metadata": {},
   "outputs": [],
   "source": []
  }
 ],
 "metadata": {
  "kernelspec": {
   "display_name": "Python 3",
   "language": "python",
   "name": "python3"
  },
  "language_info": {
   "codemirror_mode": {
    "name": "ipython",
    "version": 3
   },
   "file_extension": ".py",
   "mimetype": "text/x-python",
   "name": "python",
   "nbconvert_exporter": "python",
   "pygments_lexer": "ipython3",
   "version": "3.7.3"
  }
 },
 "nbformat": 4,
 "nbformat_minor": 2
}
