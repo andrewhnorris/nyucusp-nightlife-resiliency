{
 "cells": [
  {
   "cell_type": "code",
   "execution_count": 1,
   "metadata": {},
   "outputs": [],
   "source": [
    "import numpy as np\n",
    "import pandas as pd\n",
    "import matplotlib.pyplot as plt"
   ]
  },
  {
   "cell_type": "code",
   "execution_count": 2,
   "metadata": {},
   "outputs": [],
   "source": [
    "rim = pd.read_csv('/Users/andrewnorris/capstone_legaloccupancy/datasets/RiskInputModel.csv')"
   ]
  },
  {
   "cell_type": "code",
   "execution_count": 3,
   "metadata": {},
   "outputs": [
    {
     "data": {
      "text/plain": [
       "(17, 6)"
      ]
     },
     "execution_count": 3,
     "metadata": {},
     "output_type": "execute_result"
    }
   ],
   "source": [
    "rim.shape"
   ]
  },
  {
   "cell_type": "code",
   "execution_count": 4,
   "metadata": {},
   "outputs": [
    {
     "data": {
      "text/html": [
       "<div>\n",
       "<style scoped>\n",
       "    .dataframe tbody tr th:only-of-type {\n",
       "        vertical-align: middle;\n",
       "    }\n",
       "\n",
       "    .dataframe tbody tr th {\n",
       "        vertical-align: top;\n",
       "    }\n",
       "\n",
       "    .dataframe thead th {\n",
       "        text-align: right;\n",
       "    }\n",
       "</style>\n",
       "<table border=\"1\" class=\"dataframe\">\n",
       "  <thead>\n",
       "    <tr style=\"text-align: right;\">\n",
       "      <th></th>\n",
       "      <th>Neighborhood</th>\n",
       "      <th>BusinessLossMetric</th>\n",
       "      <th>StaffCancellationMetric</th>\n",
       "      <th>VenuesPer1kMetric</th>\n",
       "      <th>OLS_PCT_Metric</th>\n",
       "      <th>VarietyMetric</th>\n",
       "    </tr>\n",
       "  </thead>\n",
       "  <tbody>\n",
       "    <tr>\n",
       "      <th>0</th>\n",
       "      <td>Astoria/LIC</td>\n",
       "      <td>1.104798</td>\n",
       "      <td>0.333849</td>\n",
       "      <td>0.199923</td>\n",
       "      <td>-1.261206</td>\n",
       "      <td>0.598250</td>\n",
       "    </tr>\n",
       "    <tr>\n",
       "      <th>1</th>\n",
       "      <td>Bed-Stuy</td>\n",
       "      <td>0.725636</td>\n",
       "      <td>0.333849</td>\n",
       "      <td>-0.198551</td>\n",
       "      <td>1.005571</td>\n",
       "      <td>0.490202</td>\n",
       "    </tr>\n",
       "    <tr>\n",
       "      <th>2</th>\n",
       "      <td>Bed-Stuy/Bushwick</td>\n",
       "      <td>0.961647</td>\n",
       "      <td>0.333849</td>\n",
       "      <td>-0.592874</td>\n",
       "      <td>1.422584</td>\n",
       "      <td>0.042846</td>\n",
       "    </tr>\n",
       "    <tr>\n",
       "      <th>3</th>\n",
       "      <td>Williamsburg/Bushwick/Bed-Stuy</td>\n",
       "      <td>-0.549198</td>\n",
       "      <td>0.333849</td>\n",
       "      <td>-0.477378</td>\n",
       "      <td>1.046466</td>\n",
       "      <td>0.321021</td>\n",
       "    </tr>\n",
       "    <tr>\n",
       "      <th>4</th>\n",
       "      <td>Bushwick</td>\n",
       "      <td>0.673548</td>\n",
       "      <td>0.333849</td>\n",
       "      <td>-0.485231</td>\n",
       "      <td>0.885349</td>\n",
       "      <td>-0.694534</td>\n",
       "    </tr>\n",
       "  </tbody>\n",
       "</table>\n",
       "</div>"
      ],
      "text/plain": [
       "                     Neighborhood  BusinessLossMetric  \\\n",
       "0                     Astoria/LIC            1.104798   \n",
       "1                        Bed-Stuy            0.725636   \n",
       "2               Bed-Stuy/Bushwick            0.961647   \n",
       "3  Williamsburg/Bushwick/Bed-Stuy           -0.549198   \n",
       "4                        Bushwick            0.673548   \n",
       "\n",
       "   StaffCancellationMetric  VenuesPer1kMetric  OLS_PCT_Metric  VarietyMetric  \n",
       "0                 0.333849           0.199923       -1.261206       0.598250  \n",
       "1                 0.333849          -0.198551        1.005571       0.490202  \n",
       "2                 0.333849          -0.592874        1.422584       0.042846  \n",
       "3                 0.333849          -0.477378        1.046466       0.321021  \n",
       "4                 0.333849          -0.485231        0.885349      -0.694534  "
      ]
     },
     "execution_count": 4,
     "metadata": {},
     "output_type": "execute_result"
    }
   ],
   "source": [
    "rim.head()"
   ]
  },
  {
   "cell_type": "markdown",
   "metadata": {},
   "source": [
    "## Gaussian Mixture Clustering"
   ]
  },
  {
   "cell_type": "code",
   "execution_count": 5,
   "metadata": {},
   "outputs": [],
   "source": [
    "cluster_data = rim.iloc[:,1:6]"
   ]
  },
  {
   "cell_type": "code",
   "execution_count": 6,
   "metadata": {},
   "outputs": [
    {
     "data": {
      "text/plain": [
       "(17, 5)"
      ]
     },
     "execution_count": 6,
     "metadata": {},
     "output_type": "execute_result"
    }
   ],
   "source": [
    "cluster_data.shape"
   ]
  },
  {
   "cell_type": "markdown",
   "metadata": {},
   "source": [
    "**4 components:**"
   ]
  },
  {
   "cell_type": "code",
   "execution_count": 7,
   "metadata": {},
   "outputs": [
    {
     "data": {
      "text/plain": [
       "GaussianMixture(covariance_type='full', init_params='kmeans', max_iter=100,\n",
       "                means_init=None, n_components=4, n_init=1, precisions_init=None,\n",
       "                random_state=999, reg_covar=1e-06, tol=0.001, verbose=0,\n",
       "                verbose_interval=10, warm_start=False, weights_init=None)"
      ]
     },
     "execution_count": 7,
     "metadata": {},
     "output_type": "execute_result"
    }
   ],
   "source": [
    "from sklearn.mixture import GaussianMixture\n",
    "# 4 components\n",
    "GM=GaussianMixture(n_components=4,random_state=999)\n",
    "GM.fit(cluster_data)"
   ]
  },
  {
   "cell_type": "code",
   "execution_count": 8,
   "metadata": {},
   "outputs": [],
   "source": [
    "# compute each neighborhoods's LL wrt nearest cluster center\n",
    "GM_LL = pd.DataFrame()\n",
    "GM_LL['LL'] = GM.score_samples(cluster_data)\n",
    "GM_LL['Neighborhood'] = rim['Neighborhood']"
   ]
  },
  {
   "cell_type": "code",
   "execution_count": 9,
   "metadata": {},
   "outputs": [
    {
     "data": {
      "text/html": [
       "<div>\n",
       "<style scoped>\n",
       "    .dataframe tbody tr th:only-of-type {\n",
       "        vertical-align: middle;\n",
       "    }\n",
       "\n",
       "    .dataframe tbody tr th {\n",
       "        vertical-align: top;\n",
       "    }\n",
       "\n",
       "    .dataframe thead th {\n",
       "        text-align: right;\n",
       "    }\n",
       "</style>\n",
       "<table border=\"1\" class=\"dataframe\">\n",
       "  <thead>\n",
       "    <tr style=\"text-align: right;\">\n",
       "      <th></th>\n",
       "      <th>LL</th>\n",
       "      <th>Neighborhood</th>\n",
       "    </tr>\n",
       "  </thead>\n",
       "  <tbody>\n",
       "    <tr>\n",
       "      <th>8</th>\n",
       "      <td>0.108834</td>\n",
       "      <td>Greenpoint</td>\n",
       "    </tr>\n",
       "    <tr>\n",
       "      <th>7</th>\n",
       "      <td>0.136726</td>\n",
       "      <td>Flushing</td>\n",
       "    </tr>\n",
       "    <tr>\n",
       "      <th>16</th>\n",
       "      <td>1.052728</td>\n",
       "      <td>Williamsburg</td>\n",
       "    </tr>\n",
       "    <tr>\n",
       "      <th>13</th>\n",
       "      <td>1.071042</td>\n",
       "      <td>LES</td>\n",
       "    </tr>\n",
       "    <tr>\n",
       "      <th>11</th>\n",
       "      <td>1.417952</td>\n",
       "      <td>Jackson Heights</td>\n",
       "    </tr>\n",
       "    <tr>\n",
       "      <th>9</th>\n",
       "      <td>1.763555</td>\n",
       "      <td>Harlem</td>\n",
       "    </tr>\n",
       "    <tr>\n",
       "      <th>2</th>\n",
       "      <td>1.792648</td>\n",
       "      <td>Bed-Stuy/Bushwick</td>\n",
       "    </tr>\n",
       "    <tr>\n",
       "      <th>3</th>\n",
       "      <td>2.098242</td>\n",
       "      <td>Williamsburg/Bushwick/Bed-Stuy</td>\n",
       "    </tr>\n",
       "    <tr>\n",
       "      <th>4</th>\n",
       "      <td>2.346745</td>\n",
       "      <td>Bushwick</td>\n",
       "    </tr>\n",
       "    <tr>\n",
       "      <th>1</th>\n",
       "      <td>2.959487</td>\n",
       "      <td>Bed-Stuy</td>\n",
       "    </tr>\n",
       "    <tr>\n",
       "      <th>10</th>\n",
       "      <td>8.594460</td>\n",
       "      <td>Inwood</td>\n",
       "    </tr>\n",
       "    <tr>\n",
       "      <th>14</th>\n",
       "      <td>8.594544</td>\n",
       "      <td>Ridgewood</td>\n",
       "    </tr>\n",
       "    <tr>\n",
       "      <th>6</th>\n",
       "      <td>8.594575</td>\n",
       "      <td>Elmhurst</td>\n",
       "    </tr>\n",
       "    <tr>\n",
       "      <th>0</th>\n",
       "      <td>8.594576</td>\n",
       "      <td>Astoria/LIC</td>\n",
       "    </tr>\n",
       "    <tr>\n",
       "      <th>15</th>\n",
       "      <td>20.151335</td>\n",
       "      <td>South Bronx</td>\n",
       "    </tr>\n",
       "    <tr>\n",
       "      <th>12</th>\n",
       "      <td>20.151335</td>\n",
       "      <td>LIC</td>\n",
       "    </tr>\n",
       "    <tr>\n",
       "      <th>5</th>\n",
       "      <td>27.110870</td>\n",
       "      <td>Chelsea</td>\n",
       "    </tr>\n",
       "  </tbody>\n",
       "</table>\n",
       "</div>"
      ],
      "text/plain": [
       "           LL                    Neighborhood\n",
       "8    0.108834                      Greenpoint\n",
       "7    0.136726                        Flushing\n",
       "16   1.052728                    Williamsburg\n",
       "13   1.071042                             LES\n",
       "11   1.417952                 Jackson Heights\n",
       "9    1.763555                          Harlem\n",
       "2    1.792648               Bed-Stuy/Bushwick\n",
       "3    2.098242  Williamsburg/Bushwick/Bed-Stuy\n",
       "4    2.346745                        Bushwick\n",
       "1    2.959487                        Bed-Stuy\n",
       "10   8.594460                          Inwood\n",
       "14   8.594544                       Ridgewood\n",
       "6    8.594575                        Elmhurst\n",
       "0    8.594576                     Astoria/LIC\n",
       "15  20.151335                     South Bronx\n",
       "12  20.151335                             LIC\n",
       "5   27.110870                         Chelsea"
      ]
     },
     "execution_count": 9,
     "metadata": {},
     "output_type": "execute_result"
    }
   ],
   "source": [
    "# most anamolous neighborhoods\n",
    "GM_LL.sort_values(by=['LL'])"
   ]
  },
  {
   "cell_type": "markdown",
   "metadata": {},
   "source": [
    "## Variety and Venue counts multipled by negative 1"
   ]
  },
  {
   "cell_type": "code",
   "execution_count": 10,
   "metadata": {},
   "outputs": [],
   "source": [
    "rim_2 = rim"
   ]
  },
  {
   "cell_type": "code",
   "execution_count": 18,
   "metadata": {},
   "outputs": [],
   "source": [
    "rim_2['VenuesPer1kMetric'] = rim_2['VenuesPer1kMetric']*-1\n",
    "rim_2['VarietyMetric'] = rim_2['VarietyMetric']*-1"
   ]
  },
  {
   "cell_type": "code",
   "execution_count": 19,
   "metadata": {},
   "outputs": [
    {
     "data": {
      "text/html": [
       "<div>\n",
       "<style scoped>\n",
       "    .dataframe tbody tr th:only-of-type {\n",
       "        vertical-align: middle;\n",
       "    }\n",
       "\n",
       "    .dataframe tbody tr th {\n",
       "        vertical-align: top;\n",
       "    }\n",
       "\n",
       "    .dataframe thead th {\n",
       "        text-align: right;\n",
       "    }\n",
       "</style>\n",
       "<table border=\"1\" class=\"dataframe\">\n",
       "  <thead>\n",
       "    <tr style=\"text-align: right;\">\n",
       "      <th></th>\n",
       "      <th>Neighborhood</th>\n",
       "      <th>BusinessLossMetric</th>\n",
       "      <th>StaffCancellationMetric</th>\n",
       "      <th>VenuesPer1kMetric</th>\n",
       "      <th>OLS_PCT_Metric</th>\n",
       "      <th>VarietyMetric</th>\n",
       "    </tr>\n",
       "  </thead>\n",
       "  <tbody>\n",
       "    <tr>\n",
       "      <th>0</th>\n",
       "      <td>Astoria/LIC</td>\n",
       "      <td>1.104798</td>\n",
       "      <td>0.333849</td>\n",
       "      <td>0.199923</td>\n",
       "      <td>-1.261206</td>\n",
       "      <td>0.598250</td>\n",
       "    </tr>\n",
       "    <tr>\n",
       "      <th>1</th>\n",
       "      <td>Bed-Stuy</td>\n",
       "      <td>0.725636</td>\n",
       "      <td>0.333849</td>\n",
       "      <td>-0.198551</td>\n",
       "      <td>1.005571</td>\n",
       "      <td>0.490202</td>\n",
       "    </tr>\n",
       "    <tr>\n",
       "      <th>2</th>\n",
       "      <td>Bed-Stuy/Bushwick</td>\n",
       "      <td>0.961647</td>\n",
       "      <td>0.333849</td>\n",
       "      <td>-0.592874</td>\n",
       "      <td>1.422584</td>\n",
       "      <td>0.042846</td>\n",
       "    </tr>\n",
       "    <tr>\n",
       "      <th>3</th>\n",
       "      <td>Williamsburg/Bushwick/Bed-Stuy</td>\n",
       "      <td>-0.549198</td>\n",
       "      <td>0.333849</td>\n",
       "      <td>-0.477378</td>\n",
       "      <td>1.046466</td>\n",
       "      <td>0.321021</td>\n",
       "    </tr>\n",
       "    <tr>\n",
       "      <th>4</th>\n",
       "      <td>Bushwick</td>\n",
       "      <td>0.673548</td>\n",
       "      <td>0.333849</td>\n",
       "      <td>-0.485231</td>\n",
       "      <td>0.885349</td>\n",
       "      <td>-0.694534</td>\n",
       "    </tr>\n",
       "  </tbody>\n",
       "</table>\n",
       "</div>"
      ],
      "text/plain": [
       "                     Neighborhood  BusinessLossMetric  \\\n",
       "0                     Astoria/LIC            1.104798   \n",
       "1                        Bed-Stuy            0.725636   \n",
       "2               Bed-Stuy/Bushwick            0.961647   \n",
       "3  Williamsburg/Bushwick/Bed-Stuy           -0.549198   \n",
       "4                        Bushwick            0.673548   \n",
       "\n",
       "   StaffCancellationMetric  VenuesPer1kMetric  OLS_PCT_Metric  VarietyMetric  \n",
       "0                 0.333849           0.199923       -1.261206       0.598250  \n",
       "1                 0.333849          -0.198551        1.005571       0.490202  \n",
       "2                 0.333849          -0.592874        1.422584       0.042846  \n",
       "3                 0.333849          -0.477378        1.046466       0.321021  \n",
       "4                 0.333849          -0.485231        0.885349      -0.694534  "
      ]
     },
     "execution_count": 19,
     "metadata": {},
     "output_type": "execute_result"
    }
   ],
   "source": [
    "rim_2.head()"
   ]
  },
  {
   "cell_type": "code",
   "execution_count": 20,
   "metadata": {},
   "outputs": [],
   "source": [
    "cluster_data_2 = rim_2.iloc[:,1:6]"
   ]
  },
  {
   "cell_type": "code",
   "execution_count": 21,
   "metadata": {},
   "outputs": [
    {
     "data": {
      "text/plain": [
       "GaussianMixture(covariance_type='full', init_params='kmeans', max_iter=100,\n",
       "                means_init=None, n_components=3, n_init=1, precisions_init=None,\n",
       "                random_state=999, reg_covar=1e-06, tol=0.001, verbose=0,\n",
       "                verbose_interval=10, warm_start=False, weights_init=None)"
      ]
     },
     "execution_count": 21,
     "metadata": {},
     "output_type": "execute_result"
    }
   ],
   "source": [
    "from sklearn.mixture import GaussianMixture\n",
    "GM_2=GaussianMixture(n_components=3,random_state=999)\n",
    "GM_2.fit(cluster_data_2)"
   ]
  },
  {
   "cell_type": "code",
   "execution_count": 22,
   "metadata": {},
   "outputs": [],
   "source": [
    "# compute each neighborhoods's LL wrt nearest cluster center\n",
    "GM_LL_2 = pd.DataFrame()\n",
    "GM_LL_2['LL'] = GM_2.score_samples(cluster_data_2)\n",
    "GM_LL_2['Neighborhood'] = rim_2['Neighborhood']"
   ]
  },
  {
   "cell_type": "code",
   "execution_count": 23,
   "metadata": {},
   "outputs": [
    {
     "data": {
      "text/html": [
       "<div>\n",
       "<style scoped>\n",
       "    .dataframe tbody tr th:only-of-type {\n",
       "        vertical-align: middle;\n",
       "    }\n",
       "\n",
       "    .dataframe tbody tr th {\n",
       "        vertical-align: top;\n",
       "    }\n",
       "\n",
       "    .dataframe thead th {\n",
       "        text-align: right;\n",
       "    }\n",
       "</style>\n",
       "<table border=\"1\" class=\"dataframe\">\n",
       "  <thead>\n",
       "    <tr style=\"text-align: right;\">\n",
       "      <th></th>\n",
       "      <th>LL</th>\n",
       "      <th>Neighborhood</th>\n",
       "    </tr>\n",
       "  </thead>\n",
       "  <tbody>\n",
       "    <tr>\n",
       "      <th>15</th>\n",
       "      <td>-8.231167</td>\n",
       "      <td>South Bronx</td>\n",
       "    </tr>\n",
       "    <tr>\n",
       "      <th>8</th>\n",
       "      <td>-6.983706</td>\n",
       "      <td>Greenpoint</td>\n",
       "    </tr>\n",
       "    <tr>\n",
       "      <th>7</th>\n",
       "      <td>-6.952962</td>\n",
       "      <td>Flushing</td>\n",
       "    </tr>\n",
       "    <tr>\n",
       "      <th>16</th>\n",
       "      <td>-5.945373</td>\n",
       "      <td>Williamsburg</td>\n",
       "    </tr>\n",
       "    <tr>\n",
       "      <th>13</th>\n",
       "      <td>-5.925212</td>\n",
       "      <td>LES</td>\n",
       "    </tr>\n",
       "    <tr>\n",
       "      <th>11</th>\n",
       "      <td>-5.543709</td>\n",
       "      <td>Jackson Heights</td>\n",
       "    </tr>\n",
       "    <tr>\n",
       "      <th>9</th>\n",
       "      <td>-5.163477</td>\n",
       "      <td>Harlem</td>\n",
       "    </tr>\n",
       "    <tr>\n",
       "      <th>2</th>\n",
       "      <td>-5.131445</td>\n",
       "      <td>Bed-Stuy/Bushwick</td>\n",
       "    </tr>\n",
       "    <tr>\n",
       "      <th>3</th>\n",
       "      <td>-4.795305</td>\n",
       "      <td>Williamsburg/Bushwick/Bed-Stuy</td>\n",
       "    </tr>\n",
       "    <tr>\n",
       "      <th>4</th>\n",
       "      <td>-4.521943</td>\n",
       "      <td>Bushwick</td>\n",
       "    </tr>\n",
       "    <tr>\n",
       "      <th>1</th>\n",
       "      <td>-3.847944</td>\n",
       "      <td>Bed-Stuy</td>\n",
       "    </tr>\n",
       "    <tr>\n",
       "      <th>10</th>\n",
       "      <td>1.952058</td>\n",
       "      <td>Inwood</td>\n",
       "    </tr>\n",
       "    <tr>\n",
       "      <th>12</th>\n",
       "      <td>1.952121</td>\n",
       "      <td>LIC</td>\n",
       "    </tr>\n",
       "    <tr>\n",
       "      <th>14</th>\n",
       "      <td>1.952139</td>\n",
       "      <td>Ridgewood</td>\n",
       "    </tr>\n",
       "    <tr>\n",
       "      <th>0</th>\n",
       "      <td>1.952162</td>\n",
       "      <td>Astoria/LIC</td>\n",
       "    </tr>\n",
       "    <tr>\n",
       "      <th>6</th>\n",
       "      <td>1.952164</td>\n",
       "      <td>Elmhurst</td>\n",
       "    </tr>\n",
       "    <tr>\n",
       "      <th>5</th>\n",
       "      <td>27.110870</td>\n",
       "      <td>Chelsea</td>\n",
       "    </tr>\n",
       "  </tbody>\n",
       "</table>\n",
       "</div>"
      ],
      "text/plain": [
       "           LL                    Neighborhood\n",
       "15  -8.231167                     South Bronx\n",
       "8   -6.983706                      Greenpoint\n",
       "7   -6.952962                        Flushing\n",
       "16  -5.945373                    Williamsburg\n",
       "13  -5.925212                             LES\n",
       "11  -5.543709                 Jackson Heights\n",
       "9   -5.163477                          Harlem\n",
       "2   -5.131445               Bed-Stuy/Bushwick\n",
       "3   -4.795305  Williamsburg/Bushwick/Bed-Stuy\n",
       "4   -4.521943                        Bushwick\n",
       "1   -3.847944                        Bed-Stuy\n",
       "10   1.952058                          Inwood\n",
       "12   1.952121                             LIC\n",
       "14   1.952139                       Ridgewood\n",
       "0    1.952162                     Astoria/LIC\n",
       "6    1.952164                        Elmhurst\n",
       "5   27.110870                         Chelsea"
      ]
     },
     "execution_count": 23,
     "metadata": {},
     "output_type": "execute_result"
    }
   ],
   "source": [
    "# most anamolous neighborhoods\n",
    "GM_LL_2.sort_values(by=['LL'])"
   ]
  },
  {
   "cell_type": "markdown",
   "metadata": {},
   "source": [
    "*Multiplying static features by -1 does not change results.*"
   ]
  },
  {
   "cell_type": "markdown",
   "metadata": {},
   "source": [
    "## Clustering on \"dynamic\" features (business loss, staff cancellation, CRE value trends)"
   ]
  },
  {
   "cell_type": "code",
   "execution_count": 24,
   "metadata": {},
   "outputs": [
    {
     "data": {
      "text/html": [
       "<div>\n",
       "<style scoped>\n",
       "    .dataframe tbody tr th:only-of-type {\n",
       "        vertical-align: middle;\n",
       "    }\n",
       "\n",
       "    .dataframe tbody tr th {\n",
       "        vertical-align: top;\n",
       "    }\n",
       "\n",
       "    .dataframe thead th {\n",
       "        text-align: right;\n",
       "    }\n",
       "</style>\n",
       "<table border=\"1\" class=\"dataframe\">\n",
       "  <thead>\n",
       "    <tr style=\"text-align: right;\">\n",
       "      <th></th>\n",
       "      <th>Neighborhood</th>\n",
       "      <th>BusinessLossMetric</th>\n",
       "      <th>StaffCancellationMetric</th>\n",
       "      <th>OLS_PCT_Metric</th>\n",
       "    </tr>\n",
       "  </thead>\n",
       "  <tbody>\n",
       "    <tr>\n",
       "      <th>0</th>\n",
       "      <td>Astoria/LIC</td>\n",
       "      <td>1.104798</td>\n",
       "      <td>0.333849</td>\n",
       "      <td>-1.261206</td>\n",
       "    </tr>\n",
       "    <tr>\n",
       "      <th>1</th>\n",
       "      <td>Bed-Stuy</td>\n",
       "      <td>0.725636</td>\n",
       "      <td>0.333849</td>\n",
       "      <td>1.005571</td>\n",
       "    </tr>\n",
       "    <tr>\n",
       "      <th>2</th>\n",
       "      <td>Bed-Stuy/Bushwick</td>\n",
       "      <td>0.961647</td>\n",
       "      <td>0.333849</td>\n",
       "      <td>1.422584</td>\n",
       "    </tr>\n",
       "    <tr>\n",
       "      <th>3</th>\n",
       "      <td>Williamsburg/Bushwick/Bed-Stuy</td>\n",
       "      <td>-0.549198</td>\n",
       "      <td>0.333849</td>\n",
       "      <td>1.046466</td>\n",
       "    </tr>\n",
       "    <tr>\n",
       "      <th>4</th>\n",
       "      <td>Bushwick</td>\n",
       "      <td>0.673548</td>\n",
       "      <td>0.333849</td>\n",
       "      <td>0.885349</td>\n",
       "    </tr>\n",
       "  </tbody>\n",
       "</table>\n",
       "</div>"
      ],
      "text/plain": [
       "                     Neighborhood  BusinessLossMetric  \\\n",
       "0                     Astoria/LIC            1.104798   \n",
       "1                        Bed-Stuy            0.725636   \n",
       "2               Bed-Stuy/Bushwick            0.961647   \n",
       "3  Williamsburg/Bushwick/Bed-Stuy           -0.549198   \n",
       "4                        Bushwick            0.673548   \n",
       "\n",
       "   StaffCancellationMetric  OLS_PCT_Metric  \n",
       "0                 0.333849       -1.261206  \n",
       "1                 0.333849        1.005571  \n",
       "2                 0.333849        1.422584  \n",
       "3                 0.333849        1.046466  \n",
       "4                 0.333849        0.885349  "
      ]
     },
     "execution_count": 24,
     "metadata": {},
     "output_type": "execute_result"
    }
   ],
   "source": [
    "rim_3 = rim[['Neighborhood','BusinessLossMetric','StaffCancellationMetric','OLS_PCT_Metric']]\n",
    "rim_3.head()"
   ]
  },
  {
   "cell_type": "code",
   "execution_count": 25,
   "metadata": {},
   "outputs": [],
   "source": [
    "cluster_data_3 = rim_3.iloc[:,1:4]"
   ]
  },
  {
   "cell_type": "markdown",
   "metadata": {},
   "source": [
    "3 components:"
   ]
  },
  {
   "cell_type": "code",
   "execution_count": 26,
   "metadata": {},
   "outputs": [
    {
     "data": {
      "text/plain": [
       "GaussianMixture(covariance_type='full', init_params='kmeans', max_iter=100,\n",
       "                means_init=None, n_components=3, n_init=1, precisions_init=None,\n",
       "                random_state=999, reg_covar=1e-06, tol=0.001, verbose=0,\n",
       "                verbose_interval=10, warm_start=False, weights_init=None)"
      ]
     },
     "execution_count": 26,
     "metadata": {},
     "output_type": "execute_result"
    }
   ],
   "source": [
    "GM_3=GaussianMixture(n_components=3,random_state=999)\n",
    "GM_3.fit(cluster_data_3)"
   ]
  },
  {
   "cell_type": "code",
   "execution_count": 27,
   "metadata": {},
   "outputs": [],
   "source": [
    "GM_LL_3 = pd.DataFrame()\n",
    "GM_LL_3['LL'] = GM_3.score_samples(cluster_data_3)\n",
    "GM_LL_3['Neighborhood'] = rim_3['Neighborhood']"
   ]
  },
  {
   "cell_type": "code",
   "execution_count": 28,
   "metadata": {},
   "outputs": [
    {
     "data": {
      "text/html": [
       "<div>\n",
       "<style scoped>\n",
       "    .dataframe tbody tr th:only-of-type {\n",
       "        vertical-align: middle;\n",
       "    }\n",
       "\n",
       "    .dataframe tbody tr th {\n",
       "        vertical-align: top;\n",
       "    }\n",
       "\n",
       "    .dataframe thead th {\n",
       "        text-align: right;\n",
       "    }\n",
       "</style>\n",
       "<table border=\"1\" class=\"dataframe\">\n",
       "  <thead>\n",
       "    <tr style=\"text-align: right;\">\n",
       "      <th></th>\n",
       "      <th>LL</th>\n",
       "      <th>Neighborhood</th>\n",
       "    </tr>\n",
       "  </thead>\n",
       "  <tbody>\n",
       "    <tr>\n",
       "      <th>8</th>\n",
       "      <td>1.982917</td>\n",
       "      <td>Greenpoint</td>\n",
       "    </tr>\n",
       "    <tr>\n",
       "      <th>13</th>\n",
       "      <td>2.978385</td>\n",
       "      <td>LES</td>\n",
       "    </tr>\n",
       "    <tr>\n",
       "      <th>2</th>\n",
       "      <td>3.228624</td>\n",
       "      <td>Bed-Stuy/Bushwick</td>\n",
       "    </tr>\n",
       "    <tr>\n",
       "      <th>0</th>\n",
       "      <td>3.235096</td>\n",
       "      <td>Astoria/LIC</td>\n",
       "    </tr>\n",
       "    <tr>\n",
       "      <th>6</th>\n",
       "      <td>3.263073</td>\n",
       "      <td>Elmhurst</td>\n",
       "    </tr>\n",
       "    <tr>\n",
       "      <th>5</th>\n",
       "      <td>3.336031</td>\n",
       "      <td>Chelsea</td>\n",
       "    </tr>\n",
       "    <tr>\n",
       "      <th>16</th>\n",
       "      <td>3.486532</td>\n",
       "      <td>Williamsburg</td>\n",
       "    </tr>\n",
       "    <tr>\n",
       "      <th>9</th>\n",
       "      <td>3.579181</td>\n",
       "      <td>Harlem</td>\n",
       "    </tr>\n",
       "    <tr>\n",
       "      <th>11</th>\n",
       "      <td>3.616335</td>\n",
       "      <td>Jackson Heights</td>\n",
       "    </tr>\n",
       "    <tr>\n",
       "      <th>7</th>\n",
       "      <td>3.643017</td>\n",
       "      <td>Flushing</td>\n",
       "    </tr>\n",
       "    <tr>\n",
       "      <th>10</th>\n",
       "      <td>3.674292</td>\n",
       "      <td>Inwood</td>\n",
       "    </tr>\n",
       "    <tr>\n",
       "      <th>3</th>\n",
       "      <td>3.772489</td>\n",
       "      <td>Williamsburg/Bushwick/Bed-Stuy</td>\n",
       "    </tr>\n",
       "    <tr>\n",
       "      <th>1</th>\n",
       "      <td>3.897733</td>\n",
       "      <td>Bed-Stuy</td>\n",
       "    </tr>\n",
       "    <tr>\n",
       "      <th>4</th>\n",
       "      <td>3.981823</td>\n",
       "      <td>Bushwick</td>\n",
       "    </tr>\n",
       "    <tr>\n",
       "      <th>14</th>\n",
       "      <td>4.216123</td>\n",
       "      <td>Ridgewood</td>\n",
       "    </tr>\n",
       "    <tr>\n",
       "      <th>15</th>\n",
       "      <td>8.224737</td>\n",
       "      <td>South Bronx</td>\n",
       "    </tr>\n",
       "    <tr>\n",
       "      <th>12</th>\n",
       "      <td>8.224737</td>\n",
       "      <td>LIC</td>\n",
       "    </tr>\n",
       "  </tbody>\n",
       "</table>\n",
       "</div>"
      ],
      "text/plain": [
       "          LL                    Neighborhood\n",
       "8   1.982917                      Greenpoint\n",
       "13  2.978385                             LES\n",
       "2   3.228624               Bed-Stuy/Bushwick\n",
       "0   3.235096                     Astoria/LIC\n",
       "6   3.263073                        Elmhurst\n",
       "5   3.336031                         Chelsea\n",
       "16  3.486532                    Williamsburg\n",
       "9   3.579181                          Harlem\n",
       "11  3.616335                 Jackson Heights\n",
       "7   3.643017                        Flushing\n",
       "10  3.674292                          Inwood\n",
       "3   3.772489  Williamsburg/Bushwick/Bed-Stuy\n",
       "1   3.897733                        Bed-Stuy\n",
       "4   3.981823                        Bushwick\n",
       "14  4.216123                       Ridgewood\n",
       "15  8.224737                     South Bronx\n",
       "12  8.224737                             LIC"
      ]
     },
     "execution_count": 28,
     "metadata": {},
     "output_type": "execute_result"
    }
   ],
   "source": [
    "# most anamolous neighborhoods\n",
    "GM_LL_3.sort_values(by=['LL'])"
   ]
  },
  {
   "cell_type": "markdown",
   "metadata": {},
   "source": [
    "**Clustering on dynamic features results in overall more anomalous neighborhoods, with less variation in LL distribution.**"
   ]
  },
  {
   "cell_type": "markdown",
   "metadata": {},
   "source": [
    "## Silhouette Score: determining best number of GM components"
   ]
  },
  {
   "cell_type": "code",
   "execution_count": 29,
   "metadata": {},
   "outputs": [],
   "source": [
    "from sklearn import metrics\n",
    "# dataset - includes all 5 risk factors \"cluster_data\"\n",
    "cluster_data = rim.iloc[:,1:6]"
   ]
  },
  {
   "cell_type": "code",
   "execution_count": 30,
   "metadata": {},
   "outputs": [],
   "source": [
    "# # GMM plot function\n",
    "# def plot_gmm(gmm, X, label=True, ax=None):\n",
    "#     ax = ax or plt.gca()\n",
    "#     labels = gmm.fit(X).predict(X)\n",
    "#     if label:\n",
    "#         ax.scatter(X[:, 0], X[:, 1], c=labels, s=40, cmap='viridis', zorder=2)\n",
    "#     else:\n",
    "#         ax.scatter(X[:, 0], X[:, 1], s=40, zorder=2)\n",
    "    \n",
    "#     w_factor = 0.2 / gmm.weights_.max()\n",
    "#     for pos, covar, w in zip(gmm.means_, gmm.covariances_, gmm.weights_):\n",
    "#         draw_ellipse(pos, covar, alpha=w * w_factor)\n",
    "#     plt.title(\"GMM with %d components\"%len(gmm.means_), fontsize=(20))\n",
    "#     plt.xlabel(\"U.A.\")\n",
    "#     plt.ylabel(\"U.A.\")"
   ]
  },
  {
   "cell_type": "code",
   "execution_count": 31,
   "metadata": {},
   "outputs": [],
   "source": [
    "def SelBest(arr:list, X:int)->list:\n",
    "    '''\n",
    "    returns the set of X configurations with shorter distance\n",
    "    '''\n",
    "    dx=np.argsort(arr)[:X]\n",
    "    return arr[dx]"
   ]
  },
  {
   "cell_type": "code",
   "execution_count": 32,
   "metadata": {},
   "outputs": [
    {
     "data": {
      "text/plain": [
       "Text(0, 0.5, 'Score')"
      ]
     },
     "execution_count": 32,
     "metadata": {},
     "output_type": "execute_result"
    },
    {
     "data": {
      "image/png": "[encoded data removed]",
      "text/plain": [
       "<Figure size 432x288 with 1 Axes>"
      ]
     },
     "metadata": {
      "needs_background": "light"
     },
     "output_type": "display_data"
    }
   ],
   "source": [
    "n_clusters=np.arange(2, 10)\n",
    "sils=[]\n",
    "sils_err=[]\n",
    "iterations=20\n",
    "for n in n_clusters:\n",
    "    tmp_sil=[]\n",
    "    for _ in range(iterations):\n",
    "        gmm=GaussianMixture(n, n_init=2).fit(cluster_data) \n",
    "        labels=gmm.predict(cluster_data)\n",
    "        sil=metrics.silhouette_score(cluster_data, labels, metric='euclidean')\n",
    "        tmp_sil.append(sil)\n",
    "    val=np.mean(SelBest(np.array(tmp_sil), int(iterations/5)))\n",
    "    err=np.std(tmp_sil)\n",
    "    sils.append(val)\n",
    "    sils_err.append(err)\n",
    "    \n",
    "plt.errorbar(n_clusters, sils, yerr=sils_err)\n",
    "plt.title(\"Silhouette Scores\", fontsize=20)\n",
    "plt.xticks(n_clusters)\n",
    "plt.xlabel(\"N. of clusters\")\n",
    "plt.ylabel(\"Score\")"
   ]
  },
  {
   "cell_type": "markdown",
   "metadata": {},
   "source": [
    "Silhouette scores show 2 clusters is most appropriate."
   ]
  },
  {
   "cell_type": "markdown",
   "metadata": {},
   "source": [
    "## Gaussian Mixture Clustering - 2 components, all risk features ##"
   ]
  },
  {
   "cell_type": "code",
   "execution_count": null,
   "metadata": {},
   "outputs": [],
   "source": [
    "# standard features (not *-1)"
   ]
  },
  {
   "cell_type": "code",
   "execution_count": 41,
   "metadata": {},
   "outputs": [],
   "source": [
    "cluster_data_4 = rim.iloc[:,1:6]"
   ]
  },
  {
   "cell_type": "code",
   "execution_count": 42,
   "metadata": {},
   "outputs": [
    {
     "data": {
      "text/plain": [
       "GaussianMixture(covariance_type='full', init_params='kmeans', max_iter=100,\n",
       "                means_init=None, n_components=2, n_init=1, precisions_init=None,\n",
       "                random_state=999, reg_covar=1e-06, tol=0.001, verbose=0,\n",
       "                verbose_interval=10, warm_start=False, weights_init=None)"
      ]
     },
     "execution_count": 42,
     "metadata": {},
     "output_type": "execute_result"
    }
   ],
   "source": [
    "# 2 components\n",
    "GM_4=GaussianMixture(n_components=2,random_state=999) \n",
    "GM_4.fit(cluster_data_4)"
   ]
  },
  {
   "cell_type": "code",
   "execution_count": 43,
   "metadata": {},
   "outputs": [],
   "source": [
    "# compute each neighborhoods's LL wrt nearest cluster center\n",
    "GM_LL_4 = pd.DataFrame()\n",
    "GM_LL_4['LL'] = GM_4.score_samples(cluster_data_4)\n",
    "GM_LL_4['Neighborhood'] = rim_2['Neighborhood']"
   ]
  },
  {
   "cell_type": "code",
   "execution_count": 44,
   "metadata": {},
   "outputs": [
    {
     "data": {
      "text/html": [
       "<div>\n",
       "<style scoped>\n",
       "    .dataframe tbody tr th:only-of-type {\n",
       "        vertical-align: middle;\n",
       "    }\n",
       "\n",
       "    .dataframe tbody tr th {\n",
       "        vertical-align: top;\n",
       "    }\n",
       "\n",
       "    .dataframe thead th {\n",
       "        text-align: right;\n",
       "    }\n",
       "</style>\n",
       "<table border=\"1\" class=\"dataframe\">\n",
       "  <thead>\n",
       "    <tr style=\"text-align: right;\">\n",
       "      <th></th>\n",
       "      <th>LL</th>\n",
       "      <th>Neighborhood</th>\n",
       "    </tr>\n",
       "  </thead>\n",
       "  <tbody>\n",
       "    <tr>\n",
       "      <th>15</th>\n",
       "      <td>-7.764758</td>\n",
       "      <td>South Bronx</td>\n",
       "    </tr>\n",
       "    <tr>\n",
       "      <th>8</th>\n",
       "      <td>-7.139911</td>\n",
       "      <td>Greenpoint</td>\n",
       "    </tr>\n",
       "    <tr>\n",
       "      <th>7</th>\n",
       "      <td>-6.610329</td>\n",
       "      <td>Flushing</td>\n",
       "    </tr>\n",
       "    <tr>\n",
       "      <th>16</th>\n",
       "      <td>-6.176580</td>\n",
       "      <td>Williamsburg</td>\n",
       "    </tr>\n",
       "    <tr>\n",
       "      <th>13</th>\n",
       "      <td>-5.809674</td>\n",
       "      <td>LES</td>\n",
       "    </tr>\n",
       "    <tr>\n",
       "      <th>9</th>\n",
       "      <td>-5.762330</td>\n",
       "      <td>Harlem</td>\n",
       "    </tr>\n",
       "    <tr>\n",
       "      <th>12</th>\n",
       "      <td>-5.110329</td>\n",
       "      <td>LIC</td>\n",
       "    </tr>\n",
       "    <tr>\n",
       "      <th>2</th>\n",
       "      <td>-5.044145</td>\n",
       "      <td>Bed-Stuy/Bushwick</td>\n",
       "    </tr>\n",
       "    <tr>\n",
       "      <th>5</th>\n",
       "      <td>-5.027547</td>\n",
       "      <td>Chelsea</td>\n",
       "    </tr>\n",
       "    <tr>\n",
       "      <th>14</th>\n",
       "      <td>-5.025698</td>\n",
       "      <td>Ridgewood</td>\n",
       "    </tr>\n",
       "    <tr>\n",
       "      <th>6</th>\n",
       "      <td>-4.933248</td>\n",
       "      <td>Elmhurst</td>\n",
       "    </tr>\n",
       "    <tr>\n",
       "      <th>3</th>\n",
       "      <td>-4.846181</td>\n",
       "      <td>Williamsburg/Bushwick/Bed-Stuy</td>\n",
       "    </tr>\n",
       "    <tr>\n",
       "      <th>4</th>\n",
       "      <td>-4.475449</td>\n",
       "      <td>Bushwick</td>\n",
       "    </tr>\n",
       "    <tr>\n",
       "      <th>0</th>\n",
       "      <td>-4.380911</td>\n",
       "      <td>Astoria/LIC</td>\n",
       "    </tr>\n",
       "    <tr>\n",
       "      <th>10</th>\n",
       "      <td>-4.050461</td>\n",
       "      <td>Inwood</td>\n",
       "    </tr>\n",
       "    <tr>\n",
       "      <th>1</th>\n",
       "      <td>-3.895585</td>\n",
       "      <td>Bed-Stuy</td>\n",
       "    </tr>\n",
       "    <tr>\n",
       "      <th>11</th>\n",
       "      <td>-3.740991</td>\n",
       "      <td>Jackson Heights</td>\n",
       "    </tr>\n",
       "  </tbody>\n",
       "</table>\n",
       "</div>"
      ],
      "text/plain": [
       "          LL                    Neighborhood\n",
       "15 -7.764758                     South Bronx\n",
       "8  -7.139911                      Greenpoint\n",
       "7  -6.610329                        Flushing\n",
       "16 -6.176580                    Williamsburg\n",
       "13 -5.809674                             LES\n",
       "9  -5.762330                          Harlem\n",
       "12 -5.110329                             LIC\n",
       "2  -5.044145               Bed-Stuy/Bushwick\n",
       "5  -5.027547                         Chelsea\n",
       "14 -5.025698                       Ridgewood\n",
       "6  -4.933248                        Elmhurst\n",
       "3  -4.846181  Williamsburg/Bushwick/Bed-Stuy\n",
       "4  -4.475449                        Bushwick\n",
       "0  -4.380911                     Astoria/LIC\n",
       "10 -4.050461                          Inwood\n",
       "1  -3.895585                        Bed-Stuy\n",
       "11 -3.740991                 Jackson Heights"
      ]
     },
     "execution_count": 44,
     "metadata": {},
     "output_type": "execute_result"
    }
   ],
   "source": [
    "# most anamolous neighborhoods\n",
    "GM_LL_4.sort_values(by=['LL'])"
   ]
  },
  {
   "cell_type": "code",
   "execution_count": 48,
   "metadata": {},
   "outputs": [
    {
     "data": {
      "text/plain": [
       "GaussianMixture(covariance_type='full', init_params='kmeans', max_iter=100,\n",
       "                means_init=None, n_components=2, n_init=1, precisions_init=None,\n",
       "                random_state=999, reg_covar=1e-06, tol=0.001, verbose=0,\n",
       "                verbose_interval=10, warm_start=False, weights_init=None)"
      ]
     },
     "execution_count": 48,
     "metadata": {},
     "output_type": "execute_result"
    }
   ],
   "source": [
    "# features *-1\n",
    "cluster_data_6 = rim_2.iloc[:,1:6]\n",
    "# 2 components\n",
    "GM_6=GaussianMixture(n_components=2,random_state=999) \n",
    "GM_6.fit(cluster_data_6)"
   ]
  },
  {
   "cell_type": "code",
   "execution_count": 49,
   "metadata": {},
   "outputs": [],
   "source": [
    "# compute each neighborhoods's LL wrt nearest cluster center\n",
    "GM_LL_6 = pd.DataFrame()\n",
    "GM_LL_6['LL'] = GM_6.score_samples(cluster_data_6)\n",
    "GM_LL_6['Neighborhood'] = rim_2['Neighborhood']"
   ]
  },
  {
   "cell_type": "code",
   "execution_count": 50,
   "metadata": {},
   "outputs": [
    {
     "data": {
      "text/html": [
       "<div>\n",
       "<style scoped>\n",
       "    .dataframe tbody tr th:only-of-type {\n",
       "        vertical-align: middle;\n",
       "    }\n",
       "\n",
       "    .dataframe tbody tr th {\n",
       "        vertical-align: top;\n",
       "    }\n",
       "\n",
       "    .dataframe thead th {\n",
       "        text-align: right;\n",
       "    }\n",
       "</style>\n",
       "<table border=\"1\" class=\"dataframe\">\n",
       "  <thead>\n",
       "    <tr style=\"text-align: right;\">\n",
       "      <th></th>\n",
       "      <th>LL</th>\n",
       "      <th>Neighborhood</th>\n",
       "    </tr>\n",
       "  </thead>\n",
       "  <tbody>\n",
       "    <tr>\n",
       "      <th>15</th>\n",
       "      <td>-7.764758</td>\n",
       "      <td>South Bronx</td>\n",
       "    </tr>\n",
       "    <tr>\n",
       "      <th>8</th>\n",
       "      <td>-7.139911</td>\n",
       "      <td>Greenpoint</td>\n",
       "    </tr>\n",
       "    <tr>\n",
       "      <th>7</th>\n",
       "      <td>-6.610329</td>\n",
       "      <td>Flushing</td>\n",
       "    </tr>\n",
       "    <tr>\n",
       "      <th>16</th>\n",
       "      <td>-6.176580</td>\n",
       "      <td>Williamsburg</td>\n",
       "    </tr>\n",
       "    <tr>\n",
       "      <th>13</th>\n",
       "      <td>-5.809674</td>\n",
       "      <td>LES</td>\n",
       "    </tr>\n",
       "    <tr>\n",
       "      <th>9</th>\n",
       "      <td>-5.762330</td>\n",
       "      <td>Harlem</td>\n",
       "    </tr>\n",
       "    <tr>\n",
       "      <th>12</th>\n",
       "      <td>-5.110329</td>\n",
       "      <td>LIC</td>\n",
       "    </tr>\n",
       "    <tr>\n",
       "      <th>2</th>\n",
       "      <td>-5.044145</td>\n",
       "      <td>Bed-Stuy/Bushwick</td>\n",
       "    </tr>\n",
       "    <tr>\n",
       "      <th>5</th>\n",
       "      <td>-5.027547</td>\n",
       "      <td>Chelsea</td>\n",
       "    </tr>\n",
       "    <tr>\n",
       "      <th>14</th>\n",
       "      <td>-5.025698</td>\n",
       "      <td>Ridgewood</td>\n",
       "    </tr>\n",
       "    <tr>\n",
       "      <th>6</th>\n",
       "      <td>-4.933248</td>\n",
       "      <td>Elmhurst</td>\n",
       "    </tr>\n",
       "    <tr>\n",
       "      <th>3</th>\n",
       "      <td>-4.846181</td>\n",
       "      <td>Williamsburg/Bushwick/Bed-Stuy</td>\n",
       "    </tr>\n",
       "    <tr>\n",
       "      <th>4</th>\n",
       "      <td>-4.475449</td>\n",
       "      <td>Bushwick</td>\n",
       "    </tr>\n",
       "    <tr>\n",
       "      <th>0</th>\n",
       "      <td>-4.380911</td>\n",
       "      <td>Astoria/LIC</td>\n",
       "    </tr>\n",
       "    <tr>\n",
       "      <th>10</th>\n",
       "      <td>-4.050461</td>\n",
       "      <td>Inwood</td>\n",
       "    </tr>\n",
       "    <tr>\n",
       "      <th>1</th>\n",
       "      <td>-3.895585</td>\n",
       "      <td>Bed-Stuy</td>\n",
       "    </tr>\n",
       "    <tr>\n",
       "      <th>11</th>\n",
       "      <td>-3.740991</td>\n",
       "      <td>Jackson Heights</td>\n",
       "    </tr>\n",
       "  </tbody>\n",
       "</table>\n",
       "</div>"
      ],
      "text/plain": [
       "          LL                    Neighborhood\n",
       "15 -7.764758                     South Bronx\n",
       "8  -7.139911                      Greenpoint\n",
       "7  -6.610329                        Flushing\n",
       "16 -6.176580                    Williamsburg\n",
       "13 -5.809674                             LES\n",
       "9  -5.762330                          Harlem\n",
       "12 -5.110329                             LIC\n",
       "2  -5.044145               Bed-Stuy/Bushwick\n",
       "5  -5.027547                         Chelsea\n",
       "14 -5.025698                       Ridgewood\n",
       "6  -4.933248                        Elmhurst\n",
       "3  -4.846181  Williamsburg/Bushwick/Bed-Stuy\n",
       "4  -4.475449                        Bushwick\n",
       "0  -4.380911                     Astoria/LIC\n",
       "10 -4.050461                          Inwood\n",
       "1  -3.895585                        Bed-Stuy\n",
       "11 -3.740991                 Jackson Heights"
      ]
     },
     "execution_count": 50,
     "metadata": {},
     "output_type": "execute_result"
    }
   ],
   "source": [
    "# most anamolous neighborhoods\n",
    "GM_LL_6.sort_values(by=['LL'])"
   ]
  },
  {
   "cell_type": "code",
   "execution_count": 47,
   "metadata": {},
   "outputs": [],
   "source": [
    "rim_2['VenuesPer1kMetric'] = rim_2['VenuesPer1kMetric']*-1\n",
    "rim_2['VarietyMetric'] = rim_2['VarietyMetric']*-1"
   ]
  },
  {
   "cell_type": "code",
   "execution_count": null,
   "metadata": {},
   "outputs": [],
   "source": []
  },
  {
   "cell_type": "code",
   "execution_count": null,
   "metadata": {},
   "outputs": [],
   "source": []
  },
  {
   "cell_type": "markdown",
   "metadata": {},
   "source": [
    "## Gaussian Mixture Clustering - 2 components, only dynamic risk features ##"
   ]
  },
  {
   "cell_type": "code",
   "execution_count": 79,
   "metadata": {},
   "outputs": [],
   "source": [
    "cluster_data_5 = rim_3.iloc[:,1:4]"
   ]
  },
  {
   "cell_type": "code",
   "execution_count": 80,
   "metadata": {},
   "outputs": [
    {
     "data": {
      "text/plain": [
       "GaussianMixture(covariance_type='full', init_params='kmeans', max_iter=100,\n",
       "                means_init=None, n_components=2, n_init=1, precisions_init=None,\n",
       "                random_state=999, reg_covar=1e-06, tol=0.001, verbose=0,\n",
       "                verbose_interval=10, warm_start=False, weights_init=None)"
      ]
     },
     "execution_count": 80,
     "metadata": {},
     "output_type": "execute_result"
    }
   ],
   "source": [
    "# 2 components\n",
    "GM_5=GaussianMixture(n_components=2,random_state=999) # should we specify a random state here?\n",
    "GM_5.fit(cluster_data_5)"
   ]
  },
  {
   "cell_type": "code",
   "execution_count": 81,
   "metadata": {},
   "outputs": [],
   "source": [
    "# compute each neighborhoods's LL wrt nearest cluster center\n",
    "GM_LL_5 = pd.DataFrame()\n",
    "GM_LL_5['LL'] = GM_5.score_samples(cluster_data_5)\n",
    "GM_LL_5['Neighborhood'] = rim_2['Neighborhood']"
   ]
  },
  {
   "cell_type": "code",
   "execution_count": 82,
   "metadata": {},
   "outputs": [
    {
     "data": {
      "text/html": [
       "<div>\n",
       "<style scoped>\n",
       "    .dataframe tbody tr th:only-of-type {\n",
       "        vertical-align: middle;\n",
       "    }\n",
       "\n",
       "    .dataframe tbody tr th {\n",
       "        vertical-align: top;\n",
       "    }\n",
       "\n",
       "    .dataframe thead th {\n",
       "        text-align: right;\n",
       "    }\n",
       "</style>\n",
       "<table border=\"1\" class=\"dataframe\">\n",
       "  <thead>\n",
       "    <tr style=\"text-align: right;\">\n",
       "      <th></th>\n",
       "      <th>LL</th>\n",
       "      <th>Neighborhood</th>\n",
       "    </tr>\n",
       "  </thead>\n",
       "  <tbody>\n",
       "    <tr>\n",
       "      <th>8</th>\n",
       "      <td>2.048505</td>\n",
       "      <td>Greenpoint</td>\n",
       "    </tr>\n",
       "    <tr>\n",
       "      <th>0</th>\n",
       "      <td>2.771978</td>\n",
       "      <td>Astoria/LIC</td>\n",
       "    </tr>\n",
       "    <tr>\n",
       "      <th>2</th>\n",
       "      <td>2.809301</td>\n",
       "      <td>Bed-Stuy/Bushwick</td>\n",
       "    </tr>\n",
       "    <tr>\n",
       "      <th>6</th>\n",
       "      <td>2.843316</td>\n",
       "      <td>Elmhurst</td>\n",
       "    </tr>\n",
       "    <tr>\n",
       "      <th>5</th>\n",
       "      <td>3.188980</td>\n",
       "      <td>Chelsea</td>\n",
       "    </tr>\n",
       "    <tr>\n",
       "      <th>16</th>\n",
       "      <td>3.226181</td>\n",
       "      <td>Williamsburg</td>\n",
       "    </tr>\n",
       "    <tr>\n",
       "      <th>7</th>\n",
       "      <td>3.242081</td>\n",
       "      <td>Flushing</td>\n",
       "    </tr>\n",
       "    <tr>\n",
       "      <th>3</th>\n",
       "      <td>3.469212</td>\n",
       "      <td>Williamsburg/Bushwick/Bed-Stuy</td>\n",
       "    </tr>\n",
       "    <tr>\n",
       "      <th>9</th>\n",
       "      <td>3.480191</td>\n",
       "      <td>Harlem</td>\n",
       "    </tr>\n",
       "    <tr>\n",
       "      <th>13</th>\n",
       "      <td>3.518988</td>\n",
       "      <td>LES</td>\n",
       "    </tr>\n",
       "    <tr>\n",
       "      <th>14</th>\n",
       "      <td>3.577207</td>\n",
       "      <td>Ridgewood</td>\n",
       "    </tr>\n",
       "    <tr>\n",
       "      <th>1</th>\n",
       "      <td>3.635383</td>\n",
       "      <td>Bed-Stuy</td>\n",
       "    </tr>\n",
       "    <tr>\n",
       "      <th>4</th>\n",
       "      <td>3.800926</td>\n",
       "      <td>Bushwick</td>\n",
       "    </tr>\n",
       "    <tr>\n",
       "      <th>10</th>\n",
       "      <td>4.244716</td>\n",
       "      <td>Inwood</td>\n",
       "    </tr>\n",
       "    <tr>\n",
       "      <th>11</th>\n",
       "      <td>4.269967</td>\n",
       "      <td>Jackson Heights</td>\n",
       "    </tr>\n",
       "    <tr>\n",
       "      <th>15</th>\n",
       "      <td>8.224737</td>\n",
       "      <td>South Bronx</td>\n",
       "    </tr>\n",
       "    <tr>\n",
       "      <th>12</th>\n",
       "      <td>8.224737</td>\n",
       "      <td>LIC</td>\n",
       "    </tr>\n",
       "  </tbody>\n",
       "</table>\n",
       "</div>"
      ],
      "text/plain": [
       "          LL                    Neighborhood\n",
       "8   2.048505                      Greenpoint\n",
       "0   2.771978                     Astoria/LIC\n",
       "2   2.809301               Bed-Stuy/Bushwick\n",
       "6   2.843316                        Elmhurst\n",
       "5   3.188980                         Chelsea\n",
       "16  3.226181                    Williamsburg\n",
       "7   3.242081                        Flushing\n",
       "3   3.469212  Williamsburg/Bushwick/Bed-Stuy\n",
       "9   3.480191                          Harlem\n",
       "13  3.518988                             LES\n",
       "14  3.577207                       Ridgewood\n",
       "1   3.635383                        Bed-Stuy\n",
       "4   3.800926                        Bushwick\n",
       "10  4.244716                          Inwood\n",
       "11  4.269967                 Jackson Heights\n",
       "15  8.224737                     South Bronx\n",
       "12  8.224737                             LIC"
      ]
     },
     "execution_count": 82,
     "metadata": {},
     "output_type": "execute_result"
    }
   ],
   "source": [
    "# most anamolous neighborhoods\n",
    "GM_LL_5.sort_values(by=['LL'])"
   ]
  },
  {
   "cell_type": "code",
   "execution_count": null,
   "metadata": {},
   "outputs": [],
   "source": []
  },
  {
   "cell_type": "code",
   "execution_count": null,
   "metadata": {},
   "outputs": [],
   "source": []
  }
 ],
 "metadata": {
  "kernelspec": {
   "display_name": "Python 3",
   "language": "python",
   "name": "python3"
  },
  "language_info": {
   "codemirror_mode": {
    "name": "ipython",
    "version": 3
   },
   "file_extension": ".py",
   "mimetype": "text/x-python",
   "name": "python",
   "nbconvert_exporter": "python",
   "pygments_lexer": "ipython3",
   "version": "3.7.4"
  }
 },
 "nbformat": 4,
 "nbformat_minor": 4
}
