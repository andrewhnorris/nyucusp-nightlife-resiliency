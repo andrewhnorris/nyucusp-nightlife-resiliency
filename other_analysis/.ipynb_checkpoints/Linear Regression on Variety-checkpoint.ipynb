{
 "cells": [
  {
   "cell_type": "code",
   "execution_count": 1,
   "metadata": {},
   "outputs": [],
   "source": [
    "import pandas as pd\n",
    "import numpy as np\n",
    "import statsmodels.formula.api as smf\n",
    "import matplotlib.pylab as plt\n",
    "import math\n",
    "from scipy import stats\n",
    "import geopandas as gpd\n",
    "import seaborn as sns\n",
    "%matplotlib inline"
   ]
  },
  {
   "cell_type": "code",
   "execution_count": 2,
   "metadata": {},
   "outputs": [],
   "source": [
    "rim = pd.read_csv('RiskInputModel.csv')"
   ]
  },
  {
   "cell_type": "code",
   "execution_count": 3,
   "metadata": {},
   "outputs": [
    {
     "data": {
      "text/html": [
       "<div>\n",
       "<style scoped>\n",
       "    .dataframe tbody tr th:only-of-type {\n",
       "        vertical-align: middle;\n",
       "    }\n",
       "\n",
       "    .dataframe tbody tr th {\n",
       "        vertical-align: top;\n",
       "    }\n",
       "\n",
       "    .dataframe thead th {\n",
       "        text-align: right;\n",
       "    }\n",
       "</style>\n",
       "<table border=\"1\" class=\"dataframe\">\n",
       "  <thead>\n",
       "    <tr style=\"text-align: right;\">\n",
       "      <th></th>\n",
       "      <th>Neighborhood</th>\n",
       "      <th>BusinessLossMetric</th>\n",
       "      <th>StaffCancellationMetric</th>\n",
       "      <th>VenuesPer1kMetric</th>\n",
       "      <th>OLS_PCT_Metric</th>\n",
       "      <th>VarietyMetric</th>\n",
       "    </tr>\n",
       "  </thead>\n",
       "  <tbody>\n",
       "    <tr>\n",
       "      <th>0</th>\n",
       "      <td>Astoria/LIC</td>\n",
       "      <td>1.104798</td>\n",
       "      <td>0.333849</td>\n",
       "      <td>0.199923</td>\n",
       "      <td>-1.261206</td>\n",
       "      <td>0.598250</td>\n",
       "    </tr>\n",
       "    <tr>\n",
       "      <th>1</th>\n",
       "      <td>Bed-Stuy</td>\n",
       "      <td>0.725636</td>\n",
       "      <td>0.333849</td>\n",
       "      <td>-0.198551</td>\n",
       "      <td>1.005571</td>\n",
       "      <td>0.490202</td>\n",
       "    </tr>\n",
       "    <tr>\n",
       "      <th>2</th>\n",
       "      <td>Bed-Stuy/Bushwick</td>\n",
       "      <td>0.961647</td>\n",
       "      <td>0.333849</td>\n",
       "      <td>-0.592874</td>\n",
       "      <td>1.422584</td>\n",
       "      <td>0.042846</td>\n",
       "    </tr>\n",
       "    <tr>\n",
       "      <th>3</th>\n",
       "      <td>Williamsburg/Bushwick/Bed-Stuy</td>\n",
       "      <td>-0.549198</td>\n",
       "      <td>0.333849</td>\n",
       "      <td>-0.477378</td>\n",
       "      <td>1.046466</td>\n",
       "      <td>0.321021</td>\n",
       "    </tr>\n",
       "    <tr>\n",
       "      <th>4</th>\n",
       "      <td>Bushwick</td>\n",
       "      <td>0.673548</td>\n",
       "      <td>0.333849</td>\n",
       "      <td>-0.485231</td>\n",
       "      <td>0.885349</td>\n",
       "      <td>-0.694534</td>\n",
       "    </tr>\n",
       "  </tbody>\n",
       "</table>\n",
       "</div>"
      ],
      "text/plain": [
       "                     Neighborhood  BusinessLossMetric  \\\n",
       "0                     Astoria/LIC            1.104798   \n",
       "1                        Bed-Stuy            0.725636   \n",
       "2               Bed-Stuy/Bushwick            0.961647   \n",
       "3  Williamsburg/Bushwick/Bed-Stuy           -0.549198   \n",
       "4                        Bushwick            0.673548   \n",
       "\n",
       "   StaffCancellationMetric  VenuesPer1kMetric  OLS_PCT_Metric  VarietyMetric  \n",
       "0                 0.333849           0.199923       -1.261206       0.598250  \n",
       "1                 0.333849          -0.198551        1.005571       0.490202  \n",
       "2                 0.333849          -0.592874        1.422584       0.042846  \n",
       "3                 0.333849          -0.477378        1.046466       0.321021  \n",
       "4                 0.333849          -0.485231        0.885349      -0.694534  "
      ]
     },
     "execution_count": 3,
     "metadata": {},
     "output_type": "execute_result"
    }
   ],
   "source": [
    "rim.head()"
   ]
  },
  {
   "cell_type": "markdown",
   "metadata": {},
   "source": [
    "## Linear Model"
   ]
  },
  {
   "cell_type": "code",
   "execution_count": 4,
   "metadata": {},
   "outputs": [],
   "source": [
    "lm = smf.ols(formula='VarietyMetric~BusinessLossMetric+StaffCancellationMetric+VenuesPer1kMetric+OLS_PCT_Metric', data = rim).fit()"
   ]
  },
  {
   "cell_type": "code",
   "execution_count": 6,
   "metadata": {},
   "outputs": [
    {
     "name": "stdout",
     "output_type": "stream",
     "text": [
      "                            OLS Regression Results                            \n",
      "==============================================================================\n",
      "Dep. Variable:          VarietyMetric   R-squared:                       0.300\n",
      "Model:                            OLS   Adj. R-squared:                  0.067\n",
      "Method:                 Least Squares   F-statistic:                     1.289\n",
      "Date:                Fri, 19 Jun 2020   Prob (F-statistic):              0.328\n",
      "Time:                        15:17:52   Log-Likelihood:                -20.569\n",
      "No. Observations:                  17   AIC:                             51.14\n",
      "Df Residuals:                      12   BIC:                             55.30\n",
      "Df Model:                           4                                         \n",
      "Covariance Type:            nonrobust                                         \n",
      "===========================================================================================\n",
      "                              coef    std err          t      P>|t|      [0.025      0.975]\n",
      "-------------------------------------------------------------------------------------------\n",
      "Intercept                5.551e-17      0.234   2.37e-16      1.000      -0.510       0.510\n",
      "BusinessLossMetric          0.5179      0.342      1.513      0.156      -0.228       1.264\n",
      "StaffCancellationMetric    -0.3083      0.342     -0.900      0.386      -1.054       0.438\n",
      "VenuesPer1kMetric           0.2229      0.257      0.869      0.402      -0.336       0.782\n",
      "OLS_PCT_Metric              0.2520      0.256      0.983      0.345      -0.306       0.810\n",
      "==============================================================================\n",
      "Omnibus:                       11.213   Durbin-Watson:                   2.634\n",
      "Prob(Omnibus):                  0.004   Jarque-Bera (JB):                8.048\n",
      "Skew:                          -1.347   Prob(JB):                       0.0179\n",
      "Kurtosis:                       5.026   Cond. No.                         2.57\n",
      "==============================================================================\n",
      "\n",
      "Warnings:\n",
      "[1] Standard Errors assume that the covariance matrix of the errors is correctly specified.\n"
     ]
    },
    {
     "name": "stderr",
     "output_type": "stream",
     "text": [
      "C:\\Users\\aniha\\Anaconda3\\lib\\site-packages\\scipy\\stats\\stats.py:1416: UserWarning: kurtosistest only valid for n>=20 ... continuing anyway, n=17\n",
      "  \"anyway, n=%i\" % int(n))\n"
     ]
    }
   ],
   "source": [
    "print(lm.summary())"
   ]
  },
  {
   "cell_type": "code",
   "execution_count": 8,
   "metadata": {},
   "outputs": [
    {
     "data": {
      "text/plain": [
       "Index(['Neighborhood', 'BusinessLossMetric', 'StaffCancellationMetric',\n",
       "       'VenuesPer1kMetric', 'OLS_PCT_Metric', 'VarietyMetric'],\n",
       "      dtype='object')"
      ]
     },
     "execution_count": 8,
     "metadata": {},
     "output_type": "execute_result"
    }
   ],
   "source": [
    "rim.columns"
   ]
  },
  {
   "cell_type": "markdown",
   "metadata": {},
   "source": [
    "## Correlation Matrix"
   ]
  },
  {
   "cell_type": "code",
   "execution_count": 9,
   "metadata": {},
   "outputs": [
    {
     "name": "stdout",
     "output_type": "stream",
     "text": [
      "                         BusinessLossMetric  StaffCancellationMetric  \\\n",
      "BusinessLossMetric                 1.000000                 0.669274   \n",
      "StaffCancellationMetric            0.669274                 1.000000   \n",
      "VenuesPer1kMetric                  0.325610                 0.155764   \n",
      "OLS_PCT_Metric                     0.134923                 0.316874   \n",
      "\n",
      "                         VenuesPer1kMetric  OLS_PCT_Metric  \n",
      "BusinessLossMetric                0.325610        0.134923  \n",
      "StaffCancellationMetric           0.155764        0.316874  \n",
      "VenuesPer1kMetric                 1.000000       -0.018434  \n",
      "OLS_PCT_Metric                   -0.018434        1.000000  \n"
     ]
    },
    {
     "data": {
      "image/png": "[encoded data removed]",
      "text/plain": [
       "<Figure size 432x288 with 2 Axes>"
      ]
     },
     "metadata": {
      "needs_background": "light"
     },
     "output_type": "display_data"
    }
   ],
   "source": [
    "#creating a data frame with only the columns requested for the correlation matrix\n",
    "input_features = rim.filter(['BusinessLossMetric', 'StaffCancellationMetric','VenuesPer1kMetric', 'OLS_PCT_Metric'], axis=1)\n",
    "input_features.head()\n",
    "\n",
    "#Q2 Solution\n",
    "\n",
    "#correlation matrix for the requested columns\n",
    "\n",
    "\n",
    "corr = input_features.corr()\n",
    "sns.heatmap(corr, \n",
    "            xticklabels=corr.columns.values,\n",
    "            yticklabels=corr.columns.values)\n",
    "\n",
    "\n",
    "#corr = REStaten_.corr(REStaten.LAND_SQUARE_FEET, )\n",
    "#corr.style.background_gradient(cmap='coolwarm')\n",
    "# 'RdBu_r' & 'BrBG' are other good diverging colormaps\n",
    "\n",
    "print(input_features.corr())"
   ]
  },
  {
   "cell_type": "markdown",
   "metadata": {},
   "source": [
    "## Predictions & Plot"
   ]
  },
  {
   "cell_type": "code",
   "execution_count": 11,
   "metadata": {},
   "outputs": [
    {
     "data": {
      "image/png": "[encoded data removed]",
      "text/plain": [
       "<Figure size 432x288 with 1 Axes>"
      ]
     },
     "metadata": {
      "needs_background": "light"
     },
     "output_type": "display_data"
    }
   ],
   "source": [
    "#creating predicted values for regression plot\n",
    "rim['Predictions'] = lm.predict()\n",
    "\n",
    "rim[['VarietyMetric','Predictions']].head()\n",
    "\n",
    "#Q3 Solution\n",
    "\n",
    "#Plotting the multi-variate regression\n",
    "fig, ax = plt.subplots() #get axis to plot on\n",
    "#ax.set_xscale('log'); ax.set_yscale('log') #set up log-scale for axis\n",
    "#REStaten_.plot(x='LAND_SQUARE_FEET',y='SALE_PRICE',kind='scatter', logx=True, logy=True)\n",
    "rim.plot(ax=ax,kind='scatter',x='Predictions',y='VarietyMetric') #show the data\n",
    "ax.plot(rim.Predictions,rim.Predictions,'r-'); #show the regression line"
   ]
  },
  {
   "cell_type": "code",
   "execution_count": null,
   "metadata": {},
   "outputs": [],
   "source": []
  }
 ],
 "metadata": {
  "kernelspec": {
   "display_name": "Python 3",
   "language": "python",
   "name": "python3"
  },
  "language_info": {
   "codemirror_mode": {
    "name": "ipython",
    "version": 3
   },
   "file_extension": ".py",
   "mimetype": "text/x-python",
   "name": "python",
   "nbconvert_exporter": "python",
   "pygments_lexer": "ipython3",
   "version": "3.7.3"
  }
 },
 "nbformat": 4,
 "nbformat_minor": 2
}
